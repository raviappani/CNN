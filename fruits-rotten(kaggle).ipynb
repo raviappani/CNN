{
 "cells": [
  {
   "cell_type": "code",
   "execution_count": null,
   "metadata": {
    "_cell_guid": "b1076dfc-b9ad-4769-8c92-a6c4dae69d19",
    "_uuid": "8f2839f25d086af736a60e9eeb907d3b93b6e0e5"
   },
   "outputs": [],
   "source": [
    "# This Python 3 environment comes with many helpful analytics libraries installed\n",
    "# It is defined by the kaggle/python Docker image: https://github.com/kaggle/docker-python\n",
    "# For example, here's several helpful packages to load\n",
    "\n",
    "import numpy as np # linear algebra\n",
    "import pandas as pd # data processing, CSV file I/O (e.g. pd.read_csv)\n",
    "\n",
    "# Input data files are available in the read-only \"../input/\" directory\n",
    "# For example, running this (by clicking run or pressing Shift+Enter) will list all files under the input directory\n",
    "\n",
    "import os\n",
    "for dirname, _, filenames in os.walk('/kaggle/input'):\n",
    "    for filename in filenames:\n",
    "        print(os.path.join(dirname, filename))\n",
    "\n",
    "# You can write up to 20GB to the current directory (/kaggle/working/) that gets preserved as output when you create a version using \"Save & Run All\" \n",
    "# You can also write temporary files to /kaggle/temp/, but they won't be saved outside of the current session"
   ]
  },
  {
   "cell_type": "code",
   "execution_count": 3,
   "metadata": {
    "execution": {
     "iopub.execute_input": "2024-06-24T03:49:39.246750Z",
     "iopub.status.busy": "2024-06-24T03:49:39.246511Z",
     "iopub.status.idle": "2024-06-24T03:59:47.401691Z",
     "shell.execute_reply": "2024-06-24T03:59:47.400808Z",
     "shell.execute_reply.started": "2024-06-24T03:49:39.246729Z"
    }
   },
   "outputs": [
    {
     "name": "stderr",
     "output_type": "stream",
     "text": [
      "libpng warning: iCCP: known incorrect sRGB profile\n",
      "libpng warning: iCCP: known incorrect sRGB profile\n",
      "libpng warning: iCCP: known incorrect sRGB profile\n"
     ]
    }
   ],
   "source": [
    "import os\n",
    "import cv2\n",
    "from sklearn.model_selection import train_test_split\n",
    "\n",
    "def images(path):\n",
    "    return os.listdir(path)\n",
    "\n",
    "def extract():\n",
    "    base_path = r\"/kaggle/input/fruit-and-vegetable-disease-healthy-vs-rotten/Fruit And Vegetable Diseases Dataset\"\n",
    "    \n",
    "    for folder in os.listdir(base_path):\n",
    "        folder_path = os.path.join(base_path, folder)\n",
    "        image_files = images(folder_path)\n",
    "        \n",
    "        \n",
    "        train, test = train_test_split(image_files, test_size=0.2, random_state=42)\n",
    "        train, valid = train_test_split(train, test_size=0.2, random_state=42)\n",
    "        \n",
    "        \n",
    "        train_dir = os.path.join(r\"/kaggle/working/\", 'train', folder)\n",
    "        valid_dir = os.path.join(r\"/kaggle/working/\", 'valid', folder)\n",
    "        test_dir = os.path.join(r\"/kaggle/working/\", 'test', folder)\n",
    "        \n",
    "        os.makedirs(train_dir, exist_ok=True)\n",
    "        os.makedirs(valid_dir, exist_ok=True)\n",
    "        os.makedirs(test_dir, exist_ok=True)\n",
    "        \n",
    "        \n",
    "        for img_name in train:\n",
    "            img_path = os.path.join(folder_path, img_name)\n",
    "            img = cv2.imread(img_path)\n",
    "            save_path = os.path.join(train_dir, img_name)\n",
    "            cv2.imwrite(save_path, img)\n",
    "        \n",
    "      \n",
    "        for img_name in valid:\n",
    "            img_path = os.path.join(folder_path, img_name)\n",
    "            img = cv2.imread(img_path)\n",
    "            save_path = os.path.join(valid_dir, img_name)\n",
    "            cv2.imwrite(save_path, img)\n",
    "        \n",
    "       \n",
    "        for img_name in test:\n",
    "            img_path = os.path.join(folder_path, img_name)\n",
    "            img = cv2.imread(img_path)\n",
    "            save_path = os.path.join(test_dir, img_name)\n",
    "            cv2.imwrite(save_path, img)\n",
    "\n",
    "extract()\n"
   ]
  },
  {
   "cell_type": "code",
   "execution_count": 4,
   "metadata": {
    "execution": {
     "iopub.execute_input": "2024-06-24T03:59:47.404028Z",
     "iopub.status.busy": "2024-06-24T03:59:47.403701Z",
     "iopub.status.idle": "2024-06-24T03:59:47.408984Z",
     "shell.execute_reply": "2024-06-24T03:59:47.408074Z",
     "shell.execute_reply.started": "2024-06-24T03:59:47.404001Z"
    }
   },
   "outputs": [],
   "source": [
    "import numpy as np\n",
    "import pandas as pd\n",
    "import tensorflow,keras\n",
    "import cv2\n",
    "from matplotlib import pyplot as plt\n",
    "import os"
   ]
  },
  {
   "cell_type": "code",
   "execution_count": 5,
   "metadata": {
    "execution": {
     "iopub.execute_input": "2024-06-24T03:59:47.410241Z",
     "iopub.status.busy": "2024-06-24T03:59:47.409997Z",
     "iopub.status.idle": "2024-06-24T03:59:47.417758Z",
     "shell.execute_reply": "2024-06-24T03:59:47.416918Z",
     "shell.execute_reply.started": "2024-06-24T03:59:47.410220Z"
    }
   },
   "outputs": [],
   "source": [
    "from tensorflow.keras.preprocessing.image import ImageDataGenerator"
   ]
  },
  {
   "cell_type": "code",
   "execution_count": 6,
   "metadata": {
    "execution": {
     "iopub.execute_input": "2024-06-24T03:59:47.419263Z",
     "iopub.status.busy": "2024-06-24T03:59:47.418902Z",
     "iopub.status.idle": "2024-06-24T03:59:47.429258Z",
     "shell.execute_reply": "2024-06-24T03:59:47.428416Z",
     "shell.execute_reply.started": "2024-06-24T03:59:47.419233Z"
    }
   },
   "outputs": [],
   "source": [
    "train_gen_obj=ImageDataGenerator(rotation_range=45,width_shift_range=0.2,height_shift_range=0.5,brightness_range=(0,0.8),\\\n",
    "                                zoom_range=0.4,rescale=1./255)\n",
    "test_gen_obj=ImageDataGenerator(rescale=1./255)\n",
    "valid_gen_obj=ImageDataGenerator(rescale=1./255)"
   ]
  },
  {
   "cell_type": "code",
   "execution_count": 7,
   "metadata": {
    "execution": {
     "iopub.execute_input": "2024-06-24T03:59:47.430502Z",
     "iopub.status.busy": "2024-06-24T03:59:47.430222Z",
     "iopub.status.idle": "2024-06-24T03:59:48.460604Z",
     "shell.execute_reply": "2024-06-24T03:59:48.459906Z",
     "shell.execute_reply.started": "2024-06-24T03:59:47.430479Z"
    }
   },
   "outputs": [
    {
     "name": "stdout",
     "output_type": "stream",
     "text": [
      "Found 18725 images belonging to 28 classes.\n",
      "Found 5860 images belonging to 28 classes.\n",
      "Found 4692 images belonging to 28 classes.\n"
     ]
    }
   ],
   "source": [
    "train_gen=train_gen_obj.flow_from_directory(directory=r\"/kaggle/working/train\",\\\n",
    "                target_size=(500,500),classes=None,\n",
    "                color_mode='rgb',class_mode=\"categorical\",\n",
    "                batch_size=32)\n",
    "#bettr to go with gray scale because all colors are same so prefer edges,one hot encoded\n",
    "#use categorical or sparse ( one hot encoded or sparse)\n",
    "\n",
    "\n",
    "test_gen=test_gen_obj.flow_from_directory(directory=r\"/kaggle/working/test\",\\\n",
    "                target_size=(500,500),classes=None,\n",
    "                color_mode='rgb',class_mode=\"categorical\",\n",
    "                batch_size=32)\n",
    "\n",
    "\n",
    "valid_gen=valid_gen_obj.flow_from_directory(directory=r\"/kaggle/working/valid\",\\\n",
    "                target_size=(500,500),classes=None,\n",
    "                color_mode='rgb',class_mode=\"categorical\",\n",
    "                batch_size=32)"
   ]
  },
  {
   "cell_type": "code",
   "execution_count": 8,
   "metadata": {
    "execution": {
     "iopub.execute_input": "2024-06-24T03:59:48.461930Z",
     "iopub.status.busy": "2024-06-24T03:59:48.461633Z",
     "iopub.status.idle": "2024-06-24T03:59:48.469021Z",
     "shell.execute_reply": "2024-06-24T03:59:48.468216Z",
     "shell.execute_reply.started": "2024-06-24T03:59:48.461905Z"
    }
   },
   "outputs": [
    {
     "data": {
      "text/plain": [
       "array([ 0,  0,  0, ..., 27, 27, 27], dtype=int32)"
      ]
     },
     "execution_count": 8,
     "metadata": {},
     "output_type": "execute_result"
    }
   ],
   "source": [
    "train_gen.classes"
   ]
  },
  {
   "cell_type": "code",
   "execution_count": 9,
   "metadata": {
    "execution": {
     "iopub.execute_input": "2024-06-24T03:59:48.471038Z",
     "iopub.status.busy": "2024-06-24T03:59:48.470493Z",
     "iopub.status.idle": "2024-06-24T03:59:48.478599Z",
     "shell.execute_reply": "2024-06-24T03:59:48.477904Z",
     "shell.execute_reply.started": "2024-06-24T03:59:48.471007Z"
    }
   },
   "outputs": [],
   "source": [
    "from keras.models import Sequential\n",
    "from keras.layers import Dense,InputLayer,Conv2D,MaxPool2D,Flatten"
   ]
  },
  {
   "cell_type": "code",
   "execution_count": 10,
   "metadata": {
    "execution": {
     "iopub.execute_input": "2024-06-24T03:59:48.481402Z",
     "iopub.status.busy": "2024-06-24T03:59:48.481146Z",
     "iopub.status.idle": "2024-06-24T03:59:49.449299Z",
     "shell.execute_reply": "2024-06-24T03:59:49.448286Z",
     "shell.execute_reply.started": "2024-06-24T03:59:48.481381Z"
    }
   },
   "outputs": [],
   "source": [
    "model=Sequential()\n",
    "\n",
    "model.add(InputLayer(shape=(500,500,3)))\n",
    "\n",
    "model.add(Conv2D(50,(3,3),strides=(1,1),padding=\"same\",activation=\"relu\",use_bias=True))\n",
    "model.add(Conv2D(20,(3,3),strides=(1,1),padding=\"same\",activation=\"relu\",use_bias=True))\n",
    "model.add(MaxPool2D(pool_size=(2,2),strides=(2,2),padding=\"valid\"))\n",
    "\n",
    "model.add(Conv2D(50,(3,3),strides=(1,1),padding=\"valid\",activation=\"relu\",use_bias=True))\n",
    "\n",
    "\n",
    "model.add(Conv2D(30,(3,3),strides=(1,1),padding=\"valid\",activation=\"relu\",use_bias=True))\n",
    "model.add(MaxPool2D(pool_size=(2,2),strides=(2,2),padding=\"valid\"))\n",
    "\n",
    "model.add(Conv2D(50,(3,3),strides=(1,1),padding=\"valid\",activation=\"relu\",use_bias=True))\n",
    "model.add(MaxPool2D(pool_size=(2,2),strides=(2,2),padding=\"valid\"))\n",
    "\n",
    "\n",
    "model.add(Flatten())\n",
    "model.add(Dense(100,activation=\"relu\"))\n",
    "model.add(Dense(60,activation=\"relu\"))\n",
    "model.add(Dense(30,activation=\"relu\"))\n",
    "model.add(Dense(28,activation=\"softmax\"))"
   ]
  },
  {
   "cell_type": "code",
   "execution_count": 11,
   "metadata": {
    "execution": {
     "iopub.execute_input": "2024-06-24T03:59:49.451134Z",
     "iopub.status.busy": "2024-06-24T03:59:49.450643Z",
     "iopub.status.idle": "2024-06-24T03:59:49.464172Z",
     "shell.execute_reply": "2024-06-24T03:59:49.463328Z",
     "shell.execute_reply.started": "2024-06-24T03:59:49.451100Z"
    }
   },
   "outputs": [],
   "source": [
    "model.compile(optimizer=\"adam\",loss=\"categorical_crossentropy\",metrics=[\"accuracy\"])"
   ]
  },
  {
   "cell_type": "code",
   "execution_count": 12,
   "metadata": {
    "execution": {
     "iopub.execute_input": "2024-06-24T03:59:49.465572Z",
     "iopub.status.busy": "2024-06-24T03:59:49.465294Z",
     "iopub.status.idle": "2024-06-24T03:59:49.471132Z",
     "shell.execute_reply": "2024-06-24T03:59:49.470242Z",
     "shell.execute_reply.started": "2024-06-24T03:59:49.465549Z"
    }
   },
   "outputs": [
    {
     "data": {
      "text/plain": [
       "32"
      ]
     },
     "execution_count": 12,
     "metadata": {},
     "output_type": "execute_result"
    }
   ],
   "source": [
    "train_gen.batch_size"
   ]
  },
  {
   "cell_type": "code",
   "execution_count": 15,
   "metadata": {
    "execution": {
     "iopub.execute_input": "2024-06-24T04:02:43.558643Z",
     "iopub.status.busy": "2024-06-24T04:02:43.558263Z",
     "iopub.status.idle": "2024-06-24T04:02:43.566004Z",
     "shell.execute_reply": "2024-06-24T04:02:43.565079Z",
     "shell.execute_reply.started": "2024-06-24T04:02:43.558612Z"
    }
   },
   "outputs": [
    {
     "data": {
      "text/plain": [
       "{'Apple__Healthy': 0,\n",
       " 'Apple__Rotten': 1,\n",
       " 'Banana__Healthy': 2,\n",
       " 'Banana__Rotten': 3,\n",
       " 'Bellpepper__Healthy': 4,\n",
       " 'Bellpepper__Rotten': 5,\n",
       " 'Carrot__Healthy': 6,\n",
       " 'Carrot__Rotten': 7,\n",
       " 'Cucumber__Healthy': 8,\n",
       " 'Cucumber__Rotten': 9,\n",
       " 'Grape__Healthy': 10,\n",
       " 'Grape__Rotten': 11,\n",
       " 'Guava__Healthy': 12,\n",
       " 'Guava__Rotten': 13,\n",
       " 'Jujube__Healthy': 14,\n",
       " 'Jujube__Rotten': 15,\n",
       " 'Mango__Healthy': 16,\n",
       " 'Mango__Rotten': 17,\n",
       " 'Orange__Healthy': 18,\n",
       " 'Orange__Rotten': 19,\n",
       " 'Pomegranate__Healthy': 20,\n",
       " 'Pomegranate__Rotten': 21,\n",
       " 'Potato__Healthy': 22,\n",
       " 'Potato__Rotten': 23,\n",
       " 'Strawberry__Healthy': 24,\n",
       " 'Strawberry__Rotten': 25,\n",
       " 'Tomato__Healthy': 26,\n",
       " 'Tomato__Rotten': 27}"
      ]
     },
     "execution_count": 15,
     "metadata": {},
     "output_type": "execute_result"
    }
   ],
   "source": [
    "train_gen.class_indices"
   ]
  },
  {
   "cell_type": "code",
   "execution_count": 16,
   "metadata": {
    "execution": {
     "iopub.execute_input": "2024-06-24T04:03:05.170696Z",
     "iopub.status.busy": "2024-06-24T04:03:05.170326Z",
     "iopub.status.idle": "2024-06-24T08:08:48.859283Z",
     "shell.execute_reply": "2024-06-24T08:08:48.858288Z",
     "shell.execute_reply.started": "2024-06-24T04:03:05.170666Z"
    }
   },
   "outputs": [
    {
     "name": "stdout",
     "output_type": "stream",
     "text": [
      "Epoch 1/20\n",
      "\u001b[1m585/585\u001b[0m \u001b[32m━━━━━━━━━━━━━━━━━━━━\u001b[0m\u001b[37m\u001b[0m \u001b[1m0s\u001b[0m 2s/step - accuracy: 0.1255 - loss: 2.9181"
     ]
    },
    {
     "name": "stderr",
     "output_type": "stream",
     "text": [
      "/opt/conda/lib/python3.10/site-packages/keras/src/trainers/data_adapters/py_dataset_adapter.py:121: UserWarning: Your `PyDataset` class should call `super().__init__(**kwargs)` in its constructor. `**kwargs` can include `workers`, `use_multiprocessing`, `max_queue_size`. Do not pass these arguments to `fit()`, as they will be ignored.\n",
      "  self._warn_if_super_not_called()\n",
      "W0000 00:00:1719203229.257503     135 graph_launch.cc:671] Fallback to op-by-op mode because memset node breaks graph update\n"
     ]
    },
    {
     "name": "stdout",
     "output_type": "stream",
     "text": [
      "\u001b[1m585/585\u001b[0m \u001b[32m━━━━━━━━━━━━━━━━━━━━\u001b[0m\u001b[37m\u001b[0m \u001b[1m1496s\u001b[0m 3s/step - accuracy: 0.1255 - loss: 2.9178 - val_accuracy: 0.1965 - val_loss: 2.5770\n",
      "Epoch 2/20\n",
      "\u001b[1m  1/585\u001b[0m \u001b[37m━━━━━━━━━━━━━━━━━━━━\u001b[0m \u001b[1m4:14\u001b[0m 435ms/step - accuracy: 0.1875 - loss: 2.7062"
     ]
    },
    {
     "name": "stderr",
     "output_type": "stream",
     "text": [
      "/opt/conda/lib/python3.10/contextlib.py:153: UserWarning: Your input ran out of data; interrupting training. Make sure that your dataset or generator can generate at least `steps_per_epoch * epochs` batches. You may need to use the `.repeat()` function when building your dataset.\n",
      "  self.gen.throw(typ, value, traceback)\n",
      "2024-06-24 04:28:15.810245: E external/local_xla/xla/service/slow_operation_alarm.cc:65] Trying algorithm eng0{} for conv (f32[20,20,500,500]{3,2,1,0}, u8[0]{0}) custom-call(f32[20,50,500,500]{3,2,1,0}, f32[20,50,3,3]{3,2,1,0}, f32[20]{0}), window={size=3x3 pad=1_1x1_1}, dim_labels=bf01_oi01->bf01, custom_call_target=\"__cudnn$convBiasActivationForward\", backend_config={\"conv_result_scale\":1,\"activation_mode\":\"kRelu\",\"side_input_scale\":0,\"leakyrelu_alpha\":0} is taking a while...\n",
      "2024-06-24 04:28:16.079363: E external/local_xla/xla/service/slow_operation_alarm.cc:133] The operation took 1.269210109s\n",
      "Trying algorithm eng0{} for conv (f32[20,20,500,500]{3,2,1,0}, u8[0]{0}) custom-call(f32[20,50,500,500]{3,2,1,0}, f32[20,50,3,3]{3,2,1,0}, f32[20]{0}), window={size=3x3 pad=1_1x1_1}, dim_labels=bf01_oi01->bf01, custom_call_target=\"__cudnn$convBiasActivationForward\", backend_config={\"conv_result_scale\":1,\"activation_mode\":\"kRelu\",\"side_input_scale\":0,\"leakyrelu_alpha\":0} is taking a while...\n",
      "2024-06-24 04:28:17.079522: E external/local_xla/xla/service/slow_operation_alarm.cc:65] Trying algorithm eng36{k2=1,k3=0} for conv (f32[20,20,500,500]{3,2,1,0}, u8[0]{0}) custom-call(f32[20,50,500,500]{3,2,1,0}, f32[20,50,3,3]{3,2,1,0}, f32[20]{0}), window={size=3x3 pad=1_1x1_1}, dim_labels=bf01_oi01->bf01, custom_call_target=\"__cudnn$convBiasActivationForward\", backend_config={\"conv_result_scale\":1,\"activation_mode\":\"kRelu\",\"side_input_scale\":0,\"leakyrelu_alpha\":0} is taking a while...\n",
      "2024-06-24 04:28:17.084076: E external/local_xla/xla/service/slow_operation_alarm.cc:133] The operation took 1.004635533s\n",
      "Trying algorithm eng36{k2=1,k3=0} for conv (f32[20,20,500,500]{3,2,1,0}, u8[0]{0}) custom-call(f32[20,50,500,500]{3,2,1,0}, f32[20,50,3,3]{3,2,1,0}, f32[20]{0}), window={size=3x3 pad=1_1x1_1}, dim_labels=bf01_oi01->bf01, custom_call_target=\"__cudnn$convBiasActivationForward\", backend_config={\"conv_result_scale\":1,\"activation_mode\":\"kRelu\",\"side_input_scale\":0,\"leakyrelu_alpha\":0} is taking a while...\n",
      "2024-06-24 04:28:22.919580: E external/local_xla/xla/service/slow_operation_alarm.cc:65] Trying algorithm eng0{} for conv (f32[20,20,500,500]{3,2,1,0}, u8[0]{0}) custom-call(f32[20,50,500,500]{3,2,1,0}, f32[20,50,3,3]{3,2,1,0}, f32[20]{0}), window={size=3x3 pad=1_1x1_1}, dim_labels=bf01_oi01->bf01, custom_call_target=\"__cudnn$convBiasActivationForward\", backend_config={\"conv_result_scale\":1,\"activation_mode\":\"kRelu\",\"side_input_scale\":0,\"leakyrelu_alpha\":0} is taking a while...\n",
      "2024-06-24 04:28:23.183010: E external/local_xla/xla/service/slow_operation_alarm.cc:133] The operation took 1.263638392s\n",
      "Trying algorithm eng0{} for conv (f32[20,20,500,500]{3,2,1,0}, u8[0]{0}) custom-call(f32[20,50,500,500]{3,2,1,0}, f32[20,50,3,3]{3,2,1,0}, f32[20]{0}), window={size=3x3 pad=1_1x1_1}, dim_labels=bf01_oi01->bf01, custom_call_target=\"__cudnn$convBiasActivationForward\", backend_config={\"conv_result_scale\":1,\"activation_mode\":\"kRelu\",\"side_input_scale\":0,\"leakyrelu_alpha\":0} is taking a while...\n"
     ]
    },
    {
     "name": "stdout",
     "output_type": "stream",
     "text": [
      "\u001b[1m585/585\u001b[0m \u001b[32m━━━━━━━━━━━━━━━━━━━━\u001b[0m\u001b[37m\u001b[0m \u001b[1m28s\u001b[0m 46ms/step - accuracy: 0.1875 - loss: 2.7062 - val_accuracy: 0.1500 - val_loss: 3.0413\n",
      "Epoch 3/20\n",
      "\u001b[1m585/585\u001b[0m \u001b[32m━━━━━━━━━━━━━━━━━━━━\u001b[0m\u001b[37m\u001b[0m \u001b[1m1475s\u001b[0m 2s/step - accuracy: 0.1902 - loss: 2.5819 - val_accuracy: 0.2806 - val_loss: 2.2742\n",
      "Epoch 4/20\n",
      "\u001b[1m585/585\u001b[0m \u001b[32m━━━━━━━━━━━━━━━━━━━━\u001b[0m\u001b[37m\u001b[0m \u001b[1m1s\u001b[0m 145us/step - accuracy: 0.1875 - loss: 2.7685 - val_accuracy: 0.2500 - val_loss: 2.3464\n",
      "Epoch 5/20\n",
      "\u001b[1m585/585\u001b[0m \u001b[32m━━━━━━━━━━━━━━━━━━━━\u001b[0m\u001b[37m\u001b[0m \u001b[1m1473s\u001b[0m 2s/step - accuracy: 0.2546 - loss: 2.3638 - val_accuracy: 0.3515 - val_loss: 2.1233\n",
      "Epoch 6/20\n",
      "\u001b[1m585/585\u001b[0m \u001b[32m━━━━━━━━━━━━━━━━━━━━\u001b[0m\u001b[37m\u001b[0m \u001b[1m1s\u001b[0m 143us/step - accuracy: 0.1875 - loss: 2.3388 - val_accuracy: 0.2500 - val_loss: 2.0346\n",
      "Epoch 7/20\n",
      "\u001b[1m585/585\u001b[0m \u001b[32m━━━━━━━━━━━━━━━━━━━━\u001b[0m\u001b[37m\u001b[0m \u001b[1m1470s\u001b[0m 2s/step - accuracy: 0.3214 - loss: 2.1503 - val_accuracy: 0.4030 - val_loss: 1.9614\n",
      "Epoch 8/20\n",
      "\u001b[1m585/585\u001b[0m \u001b[32m━━━━━━━━━━━━━━━━━━━━\u001b[0m\u001b[37m\u001b[0m \u001b[1m1s\u001b[0m 145us/step - accuracy: 0.4688 - loss: 1.8701 - val_accuracy: 0.4500 - val_loss: 1.9864\n",
      "Epoch 9/20\n",
      "\u001b[1m585/585\u001b[0m \u001b[32m━━━━━━━━━━━━━━━━━━━━\u001b[0m\u001b[37m\u001b[0m \u001b[1m1464s\u001b[0m 2s/step - accuracy: 0.3881 - loss: 1.9436 - val_accuracy: 0.3823 - val_loss: 2.0481\n",
      "Epoch 10/20\n",
      "\u001b[1m585/585\u001b[0m \u001b[32m━━━━━━━━━━━━━━━━━━━━\u001b[0m\u001b[37m\u001b[0m \u001b[1m1s\u001b[0m 142us/step - accuracy: 0.4375 - loss: 1.7634 - val_accuracy: 0.5000 - val_loss: 1.3576\n",
      "Epoch 11/20\n",
      "\u001b[1m585/585\u001b[0m \u001b[32m━━━━━━━━━━━━━━━━━━━━\u001b[0m\u001b[37m\u001b[0m \u001b[1m1468s\u001b[0m 2s/step - accuracy: 0.4299 - loss: 1.8144 - val_accuracy: 0.5133 - val_loss: 1.5671\n",
      "Epoch 12/20\n",
      "\u001b[1m585/585\u001b[0m \u001b[32m━━━━━━━━━━━━━━━━━━━━\u001b[0m\u001b[37m\u001b[0m \u001b[1m1s\u001b[0m 144us/step - accuracy: 0.5938 - loss: 1.3883 - val_accuracy: 0.6500 - val_loss: 1.2885\n",
      "Epoch 13/20\n",
      "\u001b[1m585/585\u001b[0m \u001b[32m━━━━━━━━━━━━━━━━━━━━\u001b[0m\u001b[37m\u001b[0m \u001b[1m1472s\u001b[0m 2s/step - accuracy: 0.4783 - loss: 1.6723 - val_accuracy: 0.5308 - val_loss: 1.5664\n",
      "Epoch 14/20\n",
      "\u001b[1m585/585\u001b[0m \u001b[32m━━━━━━━━━━━━━━━━━━━━\u001b[0m\u001b[37m\u001b[0m \u001b[1m1s\u001b[0m 144us/step - accuracy: 0.4688 - loss: 1.6651 - val_accuracy: 0.5000 - val_loss: 1.5408\n",
      "Epoch 15/20\n",
      "\u001b[1m585/585\u001b[0m \u001b[32m━━━━━━━━━━━━━━━━━━━━\u001b[0m\u001b[37m\u001b[0m \u001b[1m1465s\u001b[0m 2s/step - accuracy: 0.5101 - loss: 1.5575 - val_accuracy: 0.5942 - val_loss: 1.3617\n",
      "Epoch 16/20\n",
      "\u001b[1m585/585\u001b[0m \u001b[32m━━━━━━━━━━━━━━━━━━━━\u001b[0m\u001b[37m\u001b[0m \u001b[1m1s\u001b[0m 139us/step - accuracy: 0.5625 - loss: 1.3743 - val_accuracy: 0.8000 - val_loss: 1.0034\n",
      "Epoch 17/20\n",
      "\u001b[1m585/585\u001b[0m \u001b[32m━━━━━━━━━━━━━━━━━━━━\u001b[0m\u001b[37m\u001b[0m \u001b[1m1467s\u001b[0m 2s/step - accuracy: 0.5358 - loss: 1.4801 - val_accuracy: 0.6383 - val_loss: 1.1703\n",
      "Epoch 18/20\n",
      "\u001b[1m585/585\u001b[0m \u001b[32m━━━━━━━━━━━━━━━━━━━━\u001b[0m\u001b[37m\u001b[0m \u001b[1m1s\u001b[0m 143us/step - accuracy: 0.6250 - loss: 1.3947 - val_accuracy: 0.7500 - val_loss: 0.8172\n",
      "Epoch 19/20\n",
      "\u001b[1m585/585\u001b[0m \u001b[32m━━━━━━━━━━━━━━━━━━━━\u001b[0m\u001b[37m\u001b[0m \u001b[1m1458s\u001b[0m 2s/step - accuracy: 0.5585 - loss: 1.4215 - val_accuracy: 0.6391 - val_loss: 1.1404\n",
      "Epoch 20/20\n",
      "\u001b[1m585/585\u001b[0m \u001b[32m━━━━━━━━━━━━━━━━━━━━\u001b[0m\u001b[37m\u001b[0m \u001b[1m1s\u001b[0m 142us/step - accuracy: 0.5312 - loss: 1.2231 - val_accuracy: 0.7000 - val_loss: 0.8535\n"
     ]
    }
   ],
   "source": [
    "history = model.fit(\n",
    "    train_gen,\n",
    "    steps_per_epoch=train_gen.samples // train_gen.batch_size,\n",
    "    validation_data=valid_gen,\n",
    "    validation_steps=valid_gen.samples // valid_gen.batch_size,\n",
    "    epochs=20)"
   ]
  },
  {
   "cell_type": "code",
   "execution_count": 17,
   "metadata": {
    "execution": {
     "iopub.execute_input": "2024-06-24T08:09:15.378921Z",
     "iopub.status.busy": "2024-06-24T08:09:15.377997Z",
     "iopub.status.idle": "2024-06-24T08:09:15.897160Z",
     "shell.execute_reply": "2024-06-24T08:09:15.896010Z",
     "shell.execute_reply.started": "2024-06-24T08:09:15.378884Z"
    }
   },
   "outputs": [],
   "source": [
    "model.save(r'/kaggle/working/my_model_53.h5')\n"
   ]
  },
  {
   "cell_type": "code",
   "execution_count": 18,
   "metadata": {
    "execution": {
     "iopub.execute_input": "2024-06-24T08:09:42.442819Z",
     "iopub.status.busy": "2024-06-24T08:09:42.442449Z",
     "iopub.status.idle": "2024-06-24T08:09:42.449531Z",
     "shell.execute_reply": "2024-06-24T08:09:42.448647Z",
     "shell.execute_reply.started": "2024-06-24T08:09:42.442788Z"
    }
   },
   "outputs": [
    {
     "data": {
      "text/plain": [
       "['my_model_53.h5', 'valid', 'train', '.virtual_documents', 'test']"
      ]
     },
     "execution_count": 18,
     "metadata": {},
     "output_type": "execute_result"
    }
   ],
   "source": [
    "os.listdir(r'/kaggle/working/')"
   ]
  },
  {
   "cell_type": "code",
   "execution_count": null,
   "metadata": {},
   "outputs": [],
   "source": []
  }
 ],
 "metadata": {
  "kaggle": {
   "accelerator": "nvidiaTeslaT4",
   "dataSources": [
    {
     "datasetId": 5045111,
     "sourceId": 8463025,
     "sourceType": "datasetVersion"
    }
   ],
   "dockerImageVersionId": 30732,
   "isGpuEnabled": true,
   "isInternetEnabled": false,
   "language": "python",
   "sourceType": "notebook"
  },
  "kernelspec": {
   "display_name": "Python 3 (ipykernel)",
   "language": "python",
   "name": "python3"
  },
  "language_info": {
   "codemirror_mode": {
    "name": "ipython",
    "version": 3
   },
   "file_extension": ".py",
   "mimetype": "text/x-python",
   "name": "python",
   "nbconvert_exporter": "python",
   "pygments_lexer": "ipython3",
   "version": "3.11.4"
  }
 },
 "nbformat": 4,
 "nbformat_minor": 4
}
