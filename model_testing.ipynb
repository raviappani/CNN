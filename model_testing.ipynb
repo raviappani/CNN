{
 "cells": [
  {
   "cell_type": "code",
   "execution_count": 7,
   "id": "34a93b11",
   "metadata": {},
   "outputs": [],
   "source": [
    "import numpy as np\n",
    "import pandas as pd\n",
    "import tensorflow,keras\n",
    "import cv2\n",
    "from matplotlib import pyplot as plt\n",
    "import os\n",
    "import tensorflow as tf"
   ]
  },
  {
   "cell_type": "code",
   "execution_count": 2,
   "id": "4455590c",
   "metadata": {},
   "outputs": [],
   "source": [
    "from tensorflow.keras.preprocessing.image import ImageDataGenerator"
   ]
  },
  {
   "cell_type": "code",
   "execution_count": 4,
   "id": "72db315e",
   "metadata": {},
   "outputs": [],
   "source": [
    "test_gen_obj=ImageDataGenerator(rescale=1./255)"
   ]
  },
  {
   "cell_type": "code",
   "execution_count": 17,
   "id": "897f49ff",
   "metadata": {},
   "outputs": [
    {
     "name": "stdout",
     "output_type": "stream",
     "text": [
      "Found 5861 images belonging to 28 classes.\n"
     ]
    }
   ],
   "source": [
    "test_gen=test_gen_obj.flow_from_directory(directory=r\"C:\\Users\\ravinder\\Desktop\\programmes\\Deep Leraning\\CNN\\Fruit And Vegetable Diseases Dataset\\test\",\\\n",
    "                target_size=(500,500),classes=None,\n",
    "                color_mode='rgb',class_mode=\"categorical\",\n",
    "                batch_size=32)\n"
   ]
  },
  {
   "cell_type": "code",
   "execution_count": 18,
   "id": "ea9d23af",
   "metadata": {},
   "outputs": [
    {
     "name": "stderr",
     "output_type": "stream",
     "text": [
      "WARNING:absl:Compiled the loaded model, but the compiled metrics have yet to be built. `model.compile_metrics` will be empty until you train or evaluate the model.\n"
     ]
    }
   ],
   "source": [
    "model = tf.keras.models.load_model(r\"C:\\Users\\ravinder\\Downloads\\my_model_53.h5\")"
   ]
  },
  {
   "cell_type": "code",
   "execution_count": 19,
   "id": "41283292",
   "metadata": {},
   "outputs": [
    {
     "name": "stderr",
     "output_type": "stream",
     "text": [
      "C:\\Users\\ravinder\\.jupyter\\programmes\\Lib\\site-packages\\keras\\src\\trainers\\data_adapters\\py_dataset_adapter.py:121: UserWarning: Your `PyDataset` class should call `super().__init__(**kwargs)` in its constructor. `**kwargs` can include `workers`, `use_multiprocessing`, `max_queue_size`. Do not pass these arguments to `fit()`, as they will be ignored.\n",
      "  self._warn_if_super_not_called()\n"
     ]
    },
    {
     "name": "stdout",
     "output_type": "stream",
     "text": [
      "\u001b[1m184/184\u001b[0m \u001b[32m━━━━━━━━━━━━━━━━━━━━\u001b[0m\u001b[37m\u001b[0m \u001b[1m668s\u001b[0m 4s/step\n"
     ]
    }
   ],
   "source": [
    "pred=np.argmax(model.predict(test_gen),axis=1)"
   ]
  },
  {
   "cell_type": "code",
   "execution_count": 20,
   "id": "ae6b167b",
   "metadata": {},
   "outputs": [
    {
     "data": {
      "text/plain": [
       "0.0615935847125064"
      ]
     },
     "execution_count": 20,
     "metadata": {},
     "output_type": "execute_result"
    }
   ],
   "source": [
    "from sklearn.metrics import accuracy_score\n",
    "accuracy_score(test_gen.labels,pred)"
   ]
  },
  {
   "cell_type": "code",
   "execution_count": 25,
   "id": "e0e24985",
   "metadata": {},
   "outputs": [
    {
     "data": {
      "text/plain": [
       "array([ 3, 25,  6, ..., 25, 17,  5], dtype=int64)"
      ]
     },
     "execution_count": 25,
     "metadata": {},
     "output_type": "execute_result"
    }
   ],
   "source": [
    "pred"
   ]
  },
  {
   "cell_type": "code",
   "execution_count": 21,
   "id": "04f57cf4",
   "metadata": {},
   "outputs": [
    {
     "data": {
      "text/plain": [
       "5861"
      ]
     },
     "execution_count": 21,
     "metadata": {},
     "output_type": "execute_result"
    }
   ],
   "source": [
    "len(pred)"
   ]
  },
  {
   "cell_type": "code",
   "execution_count": 22,
   "id": "3d9b65f7",
   "metadata": {},
   "outputs": [
    {
     "data": {
      "text/plain": [
       "5861"
      ]
     },
     "execution_count": 22,
     "metadata": {},
     "output_type": "execute_result"
    }
   ],
   "source": [
    "len(test_gen.labels)"
   ]
  },
  {
   "cell_type": "code",
   "execution_count": 28,
   "id": "ba1fd3ac",
   "metadata": {},
   "outputs": [],
   "source": [
    "dic=test_gen.class_indices"
   ]
  },
  {
   "cell_type": "code",
   "execution_count": 29,
   "id": "4d1e30b4",
   "metadata": {},
   "outputs": [],
   "source": [
    "dic={value:key for key,value in dic.items()}"
   ]
  },
  {
   "cell_type": "code",
   "execution_count": 31,
   "id": "bedaf406",
   "metadata": {},
   "outputs": [],
   "source": [
    "l=[]\n",
    "for y in pred:\n",
    "    l.append(dic[y])"
   ]
  },
  {
   "cell_type": "code",
   "execution_count": 33,
   "id": "b331d1e6",
   "metadata": {},
   "outputs": [
    {
     "data": {
      "text/plain": [
       "5861"
      ]
     },
     "execution_count": 33,
     "metadata": {},
     "output_type": "execute_result"
    }
   ],
   "source": [
    "len(l)"
   ]
  },
  {
   "cell_type": "code",
   "execution_count": 34,
   "id": "2fe9976a",
   "metadata": {},
   "outputs": [],
   "source": [
    "d={}\n",
    "for i in l:\n",
    "    if i in d:\n",
    "        d[i]+=1\n",
    "    else:\n",
    "        d[i]=1"
   ]
  },
  {
   "cell_type": "code",
   "execution_count": 35,
   "id": "96744c87",
   "metadata": {},
   "outputs": [
    {
     "data": {
      "text/plain": [
       "{'Banana__Rotten': 633,\n",
       " 'Strawberry__Rotten': 259,\n",
       " 'Carrot__Healthy': 133,\n",
       " 'Potato__Rotten': 103,\n",
       " 'Apple__Rotten': 640,\n",
       " 'Mango__Healthy': 303,\n",
       " 'Orange__Healthy': 501,\n",
       " 'Orange__Rotten': 398,\n",
       " 'Pomegranate__Rotten': 106,\n",
       " 'Banana__Healthy': 307,\n",
       " 'Mango__Rotten': 421,\n",
       " 'Strawberry__Healthy': 369,\n",
       " 'Bellpepper__Rotten': 77,\n",
       " 'Bellpepper__Healthy': 172,\n",
       " 'Cucumber__Healthy': 188,\n",
       " 'Tomato__Healthy': 94,\n",
       " 'Potato__Healthy': 91,\n",
       " 'Apple__Healthy': 560,\n",
       " 'Jujube__Healthy': 85,\n",
       " 'Cucumber__Rotten': 120,\n",
       " 'Carrot__Rotten': 142,\n",
       " 'Pomegranate__Healthy': 31,\n",
       " 'Guava__Healthy': 34,\n",
       " 'Tomato__Rotten': 14,\n",
       " 'Jujube__Rotten': 48,\n",
       " 'Grape__Rotten': 20,\n",
       " 'Guava__Rotten': 2,\n",
       " 'Grape__Healthy': 10}"
      ]
     },
     "execution_count": 35,
     "metadata": {},
     "output_type": "execute_result"
    }
   ],
   "source": [
    "d"
   ]
  },
  {
   "cell_type": "code",
   "execution_count": null,
   "id": "458de18c",
   "metadata": {},
   "outputs": [],
   "source": []
  }
 ],
 "metadata": {
  "kernelspec": {
   "display_name": "Python 3 (ipykernel)",
   "language": "python",
   "name": "python3"
  },
  "language_info": {
   "codemirror_mode": {
    "name": "ipython",
    "version": 3
   },
   "file_extension": ".py",
   "mimetype": "text/x-python",
   "name": "python",
   "nbconvert_exporter": "python",
   "pygments_lexer": "ipython3",
   "version": "3.11.4"
  }
 },
 "nbformat": 4,
 "nbformat_minor": 5
}
